{
  "nbformat": 4,
  "nbformat_minor": 0,
  "metadata": {
    "colab": {
      "provenance": [],
      "authorship_tag": "ABX9TyOmknPU2yC3cbpj6zmeXHex",
      "include_colab_link": true
    },
    "kernelspec": {
      "name": "python3",
      "display_name": "Python 3"
    },
    "language_info": {
      "name": "python"
    }
  },
  "cells": [
    {
      "cell_type": "markdown",
      "metadata": {
        "id": "view-in-github",
        "colab_type": "text"
      },
      "source": [
        "<a href=\"https://colab.research.google.com/github/juhmaciel/Python/blob/main/Projeto_Parcial.ipynb\" target=\"_parent\"><img src=\"https://colab.research.google.com/assets/colab-badge.svg\" alt=\"Open In Colab\"/></a>"
      ]
    },
    {
      "cell_type": "code",
      "source": [
        "import requests\n",
        "\n",
        "def extract_pokemon_data():\n",
        "    url = 'https://pokeapi.co/api/v2/pokemon'\n",
        "    response = requests.get(url)\n",
        "\n",
        "    if response.status_code == 200:\n",
        "        data = response.json()\n",
        "\n",
        "        # Extração das informações de 5 Pokémons\n",
        "        pokemons = data['results'][:5]  # Pegando os primeiros 5 Pokémons da lista\n",
        "\n",
        "        for pokemon in pokemons:\n",
        "            name = pokemon['name']\n",
        "            url = pokemon['url']\n",
        "            pokemon_data = requests.get(url).json()\n",
        "            print(f\"Pokemon: {name}\")\n",
        "            print(f\"Altura: {pokemon_data['height']}\")\n",
        "            print(f\"Peso: {pokemon_data['weight']}\")\n",
        "            types = [t['type']['name'] for t in pokemon_data['types']]\n",
        "            print(f\"Poder: {', '.join(types)}\")\n",
        "            print(\"------------------\")\n",
        "    else:\n",
        "        print(f\"https://http.dog/{response.status_code}.jpg\")\n",
        "\n",
        "extract_pokemon_data()"
      ],
      "metadata": {
        "id": "m38wA10tos7s"
      },
      "execution_count": null,
      "outputs": []
    }
  ]
}